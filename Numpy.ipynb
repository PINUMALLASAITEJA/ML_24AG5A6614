{
  "nbformat": 4,
  "nbformat_minor": 0,
  "metadata": {
    "colab": {
      "provenance": [],
      "authorship_tag": "ABX9TyMwSAnbpuwAKwRsTp3Gn8e2",
      "include_colab_link": true
    },
    "kernelspec": {
      "name": "python3",
      "display_name": "Python 3"
    },
    "language_info": {
      "name": "python"
    }
  },
  "cells": [
    {
      "cell_type": "markdown",
      "metadata": {
        "id": "view-in-github",
        "colab_type": "text"
      },
      "source": [
        "<a href=\"https://colab.research.google.com/github/PINUMALLASAITEJA/ML_24AG5A6614/blob/main/Numpy.ipynb\" target=\"_parent\"><img src=\"https://colab.research.google.com/assets/colab-badge.svg\" alt=\"Open In Colab\"/></a>"
      ]
    },
    {
      "cell_type": "markdown",
      "source": [
        "Introduction to NumPy FrameWork\n",
        "\n"
      ],
      "metadata": {
        "id": "1JKftWhbCVrA"
      }
    },
    {
      "cell_type": "markdown",
      "source": [
        "Import NumPy in Python"
      ],
      "metadata": {
        "id": "QhirWbrjWVvw"
      }
    },
    {
      "cell_type": "code",
      "source": [
        "import numpy as np"
      ],
      "metadata": {
        "id": "NFNg89I-DSUF"
      },
      "execution_count": 1,
      "outputs": []
    },
    {
      "cell_type": "markdown",
      "source": [
        "NumPy Array Creation"
      ],
      "metadata": {
        "id": "4ubFHNguWaj0"
      }
    },
    {
      "cell_type": "code",
      "source": [
        "array1 = np.array([1,2,3,4,5])\n",
        "print(array1)"
      ],
      "metadata": {
        "id": "JXkACx56Dd0B",
        "colab": {
          "base_uri": "https://localhost:8080/"
        },
        "outputId": "29f09314-be37-4c68-c42d-2773b224cf75"
      },
      "execution_count": 2,
      "outputs": [
        {
          "output_type": "stream",
          "name": "stdout",
          "text": [
            "[1 2 3 4 5]\n"
          ]
        }
      ]
    },
    {
      "cell_type": "markdown",
      "source": [
        "Create a 2-D NumPy Array"
      ],
      "metadata": {
        "id": "gNfPnJX1WlzY"
      }
    },
    {
      "cell_type": "code",
      "source": [
        "array2 = np.array([[1,2,3,4,5],[6,7,8,9,10]])\n",
        "print(array2)"
      ],
      "metadata": {
        "id": "NsDuzNPIDqdJ",
        "colab": {
          "base_uri": "https://localhost:8080/"
        },
        "outputId": "440f4608-3746-4a39-911e-2cd5508c06ad"
      },
      "execution_count": 3,
      "outputs": [
        {
          "output_type": "stream",
          "name": "stdout",
          "text": [
            "[[ 1  2  3  4  5]\n",
            " [ 6  7  8  9 10]]\n"
          ]
        }
      ]
    },
    {
      "cell_type": "markdown",
      "source": [
        "Create a 3-D NumPy Array"
      ],
      "metadata": {
        "id": "-QxIEu8UWqMz"
      }
    },
    {
      "cell_type": "code",
      "source": [
        "array = np.array([[[1,2,3,4,5],[6,7,8,9,10],[1,6,2,5,3]] , [[1,2,3,4,5],[2,3,4,5,6],[3,4,5,6,7]]])\n",
        "print(array)"
      ],
      "metadata": {
        "id": "27-9oGqHEWZc",
        "colab": {
          "base_uri": "https://localhost:8080/"
        },
        "outputId": "1317684a-b3ce-4a18-c170-e759204cbf71"
      },
      "execution_count": 4,
      "outputs": [
        {
          "output_type": "stream",
          "name": "stdout",
          "text": [
            "[[[ 1  2  3  4  5]\n",
            "  [ 6  7  8  9 10]\n",
            "  [ 1  6  2  5  3]]\n",
            "\n",
            " [[ 1  2  3  4  5]\n",
            "  [ 2  3  4  5  6]\n",
            "  [ 3  4  5  6  7]]]\n"
          ]
        }
      ]
    },
    {
      "cell_type": "markdown",
      "source": [
        "Check Data Type of a NumPy Array"
      ],
      "metadata": {
        "id": "Xgov2D_9WvTq"
      }
    },
    {
      "cell_type": "code",
      "source": [
        "array = np.array([1,2,3,4,5])\n",
        "print(array.dtype)"
      ],
      "metadata": {
        "id": "UqsVea0oGxbJ",
        "colab": {
          "base_uri": "https://localhost:8080/"
        },
        "outputId": "a743c457-cd37-4eba-a8e9-0b6ae08059c1"
      },
      "execution_count": 5,
      "outputs": [
        {
          "output_type": "stream",
          "name": "stdout",
          "text": [
            "int64\n"
          ]
        }
      ]
    },
    {
      "cell_type": "markdown",
      "source": [
        "Check Size of Numpy array"
      ],
      "metadata": {
        "id": "Melzpgy5WzT-"
      }
    },
    {
      "cell_type": "code",
      "source": [
        "array = np.array([1,2,3,4,5,6,7,8])\n",
        "print(array.size)"
      ],
      "metadata": {
        "id": "6xEsiOigHyRR",
        "colab": {
          "base_uri": "https://localhost:8080/"
        },
        "outputId": "57ac19ad-2e59-4c1b-b23b-f7e4d3a7326c"
      },
      "execution_count": 6,
      "outputs": [
        {
          "output_type": "stream",
          "name": "stdout",
          "text": [
            "8\n"
          ]
        }
      ]
    },
    {
      "cell_type": "markdown",
      "source": [
        "NumPy Array shape Attribute"
      ],
      "metadata": {
        "id": "0cgoRWJxW484"
      }
    },
    {
      "cell_type": "code",
      "source": [
        "array = np.array([[1,2,3,4,5],[1,3,4,5,8]])\n",
        "print(array.shape)"
      ],
      "metadata": {
        "id": "RAW3scD6IAk5",
        "colab": {
          "base_uri": "https://localhost:8080/"
        },
        "outputId": "e43378fe-f498-4fbd-9977-7e51b8f32740"
      },
      "execution_count": 7,
      "outputs": [
        {
          "output_type": "stream",
          "name": "stdout",
          "text": [
            "(2, 5)\n"
          ]
        }
      ]
    },
    {
      "cell_type": "markdown",
      "source": [
        "NumPy Array itemsize Attribute"
      ],
      "metadata": {
        "id": "oJaIfPGJW9_W"
      }
    },
    {
      "cell_type": "code",
      "source": [
        "array = np.array([1,2,3,4])\n",
        "array2 = np.array([1,2,3,4,5,6,7,8],dtype=np.int32)\n",
        "print(array.itemsize)\n",
        "print(array2.itemsize)"
      ],
      "metadata": {
        "id": "bNapeHKhIwtE",
        "colab": {
          "base_uri": "https://localhost:8080/"
        },
        "outputId": "f0161400-189c-4bc8-88bc-4613937b11c0"
      },
      "execution_count": 8,
      "outputs": [
        {
          "output_type": "stream",
          "name": "stdout",
          "text": [
            "8\n",
            "4\n"
          ]
        }
      ]
    },
    {
      "cell_type": "markdown",
      "source": [
        "NumPy Array data Attribute"
      ],
      "metadata": {
        "id": "K01sLdjcXDDm"
      }
    },
    {
      "cell_type": "code",
      "source": [
        "array = np.array([1,2,3,4,5])\n",
        "array2 = np.array([[1,2,3,4,5],[3,4,5,6,7]])\n",
        "print(array.data)\n",
        "print(array2.data)"
      ],
      "metadata": {
        "id": "j8vfz46SJlus",
        "colab": {
          "base_uri": "https://localhost:8080/"
        },
        "outputId": "8c255c65-ca0c-4065-8127-9e3f63c84f31"
      },
      "execution_count": 10,
      "outputs": [
        {
          "output_type": "stream",
          "name": "stdout",
          "text": [
            "<memory at 0x7afabc22db40>\n",
            "<memory at 0x7afabc25e810>\n"
          ]
        }
      ]
    },
    {
      "cell_type": "markdown",
      "source": [
        "Access Array Elements Using Index"
      ],
      "metadata": {
        "id": "OOUFI_K9XHwm"
      }
    },
    {
      "cell_type": "code",
      "source": [
        "array = np.array([1,2,3,4,5])\n",
        "print(array[0])\n",
        "print(array[2])\n",
        "print(array[4])"
      ],
      "metadata": {
        "id": "qDkSiPGJKtTq",
        "colab": {
          "base_uri": "https://localhost:8080/"
        },
        "outputId": "8d6f75e4-81ce-4081-9fce-562ea20bf003"
      },
      "execution_count": 11,
      "outputs": [
        {
          "output_type": "stream",
          "name": "stdout",
          "text": [
            "1\n",
            "3\n",
            "5\n"
          ]
        }
      ]
    },
    {
      "cell_type": "markdown",
      "source": [
        "Modify Array Elements Using Index\n",
        "\n"
      ],
      "metadata": {
        "id": "nK_Da9rVXN6O"
      }
    },
    {
      "cell_type": "code",
      "source": [
        "array = np.array([1,2,3,4])\n",
        "array[0] = 5\n",
        "print(array)"
      ],
      "metadata": {
        "id": "0sgPdyepK-jR",
        "colab": {
          "base_uri": "https://localhost:8080/"
        },
        "outputId": "c8feb63c-9ed0-4f44-d173-2963698a6ddf"
      },
      "execution_count": 12,
      "outputs": [
        {
          "output_type": "stream",
          "name": "stdout",
          "text": [
            "[5 2 3 4]\n"
          ]
        }
      ]
    },
    {
      "cell_type": "markdown",
      "source": [
        "Compute Median Using NumPy"
      ],
      "metadata": {
        "id": "zv2CEU1fXRiz"
      }
    },
    {
      "cell_type": "code",
      "source": [
        "array = np.array([3,4,5,6,7])\n",
        "median = np.median(array)\n",
        "print(median)"
      ],
      "metadata": {
        "colab": {
          "base_uri": "https://localhost:8080/"
        },
        "id": "WNKRXdSQU2yy",
        "outputId": "8f90c2a6-cd18-4f1c-e720-d31e0d4d9156"
      },
      "execution_count": 13,
      "outputs": [
        {
          "output_type": "stream",
          "name": "stdout",
          "text": [
            "5.0\n"
          ]
        }
      ]
    },
    {
      "cell_type": "markdown",
      "source": [
        "Compute Mean Using NumPy"
      ],
      "metadata": {
        "id": "wYjXvoGNXh3g"
      }
    },
    {
      "cell_type": "markdown",
      "source": [
        "Standard Deviation of NumPy Array"
      ],
      "metadata": {
        "id": "27VWdvBQXkmJ"
      }
    },
    {
      "cell_type": "code",
      "source": [
        "array = np.array([3,4,5,6,7])\n",
        "std = np.std(array)\n",
        "print(std)"
      ],
      "metadata": {
        "colab": {
          "base_uri": "https://localhost:8080/"
        },
        "id": "hzsZgJqdVHkM",
        "outputId": "5d4be4dd-aa00-428c-e243-178cb39a96db"
      },
      "execution_count": 16,
      "outputs": [
        {
          "output_type": "stream",
          "name": "stdout",
          "text": [
            "1.4142135623730951\n"
          ]
        }
      ]
    },
    {
      "cell_type": "markdown",
      "source": [
        "Numpy Percentile"
      ],
      "metadata": {
        "id": "7O8dhoHbXoIm"
      }
    },
    {
      "cell_type": "code",
      "source": [
        "array = np.array([3,4,8,6,7])\n",
        "percent = np.percentile(array,50)\n",
        "print(percent)"
      ],
      "metadata": {
        "colab": {
          "base_uri": "https://localhost:8080/"
        },
        "id": "EEaXu2shVeNH",
        "outputId": "7f222010-3257-4caf-cb9d-7d727bb843b8"
      },
      "execution_count": 21,
      "outputs": [
        {
          "output_type": "stream",
          "name": "stdout",
          "text": [
            "6.0\n"
          ]
        }
      ]
    },
    {
      "cell_type": "markdown",
      "source": [
        "Numpy min"
      ],
      "metadata": {
        "id": "dqkLap9AZSlW"
      }
    },
    {
      "cell_type": "code",
      "source": [
        "array = np.array([3,4,5,6,7])\n",
        "std = np.min(array)\n",
        "print(std)"
      ],
      "metadata": {
        "colab": {
          "base_uri": "https://localhost:8080/"
        },
        "id": "mZ2FDnoRV8NS",
        "outputId": "cb354b3a-2347-4098-f0c7-de34df1ed933"
      },
      "execution_count": 19,
      "outputs": [
        {
          "output_type": "stream",
          "name": "stdout",
          "text": [
            "3\n"
          ]
        }
      ]
    },
    {
      "cell_type": "markdown",
      "source": [
        "Compute Mean Using NumPy"
      ],
      "metadata": {
        "id": "lPFM4_Y7ZfF8"
      }
    },
    {
      "cell_type": "code",
      "source": [
        "array = np.array([2,4,5,6,7])\n",
        "mean = np.mean(array)\n",
        "print(mean)"
      ],
      "metadata": {
        "colab": {
          "base_uri": "https://localhost:8080/"
        },
        "id": "aJDgHKFCU6SK",
        "outputId": "b6014191-4147-4b72-a443-d9850021653e"
      },
      "execution_count": 22,
      "outputs": [
        {
          "output_type": "stream",
          "name": "stdout",
          "text": [
            "4.8\n"
          ]
        }
      ]
    },
    {
      "cell_type": "markdown",
      "source": [
        "Numpy max"
      ],
      "metadata": {
        "id": "5p7uTvgoYyt6"
      }
    },
    {
      "cell_type": "code",
      "source": [
        "array = np.array([3,4,5,6,7])\n",
        "max = np.max(array)\n",
        "print(max)"
      ],
      "metadata": {
        "colab": {
          "base_uri": "https://localhost:8080/"
        },
        "id": "0yFBdd7QWCH9",
        "outputId": "09feccad-05c0-4b15-fd47-a97498deb62a"
      },
      "execution_count": 20,
      "outputs": [
        {
          "output_type": "stream",
          "name": "stdout",
          "text": [
            "7\n"
          ]
        }
      ]
    }
  ]
}